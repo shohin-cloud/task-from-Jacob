{
 "cells": [
  {
   "cell_type": "code",
   "execution_count": 123,
   "metadata": {},
   "outputs": [
    {
     "name": "stdout",
     "output_type": "stream",
     "text": [
      "tourist\n",
      "Rating of tourist is 3579\n"
     ]
    }
   ],
   "source": [
    "import requests\n",
    "import json\n",
    "name = input() \n",
    "\n",
    "response = requests.get(f'https://codeforces.com/api/user.info?handles={name}')\n",
    "answer = response.text\n",
    "answer = json.loads(answer)\n",
    "\n",
    "print('Rating of' ,name, 'is', answer['result'][0]['rating'])"
   ]
  },
  {
   "cell_type": "code",
   "execution_count": null,
   "metadata": {},
   "outputs": [],
   "source": []
  }
 ],
 "metadata": {
  "kernelspec": {
   "display_name": "Python 3",
   "language": "python",
   "name": "python3"
  },
  "language_info": {
   "codemirror_mode": {
    "name": "ipython",
    "version": 3
   },
   "file_extension": ".py",
   "mimetype": "text/x-python",
   "name": "python",
   "nbconvert_exporter": "python",
   "pygments_lexer": "ipython3",
   "version": "3.8.5"
  }
 },
 "nbformat": 4,
 "nbformat_minor": 4
}
